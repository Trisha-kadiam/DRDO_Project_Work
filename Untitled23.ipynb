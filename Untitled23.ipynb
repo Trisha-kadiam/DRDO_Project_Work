{
  "nbformat": 4,
  "nbformat_minor": 0,
  "metadata": {
    "colab": {
      "provenance": []
    },
    "kernelspec": {
      "name": "python3",
      "display_name": "Python 3"
    },
    "language_info": {
      "name": "python"
    }
  },
  "cells": [
    {
      "cell_type": "code",
      "execution_count": null,
      "metadata": {
        "colab": {
          "base_uri": "https://localhost:8080/"
        },
        "id": "96e2MUwymRqC",
        "outputId": "798a6748-0b78-49d7-8cae-32bbfd9fb679"
      },
      "outputs": [
        {
          "output_type": "stream",
          "name": "stdout",
          "text": [
            "Mounted at /content/gdrive\n"
          ]
        }
      ],
      "source": [
        "from google.colab import drive\n",
        "drive.mount('/content/gdrive')\n"
      ]
    },
    {
      "cell_type": "code",
      "source": [
        "from google.colab import drive\n",
        "import os\n",
        "import cv2\n",
        "import numpy as np\n",
        "from sklearn.preprocessing import LabelEncoder\n",
        "from sklearn.svm import SVC\n",
        "from sklearn.metrics import accuracy_score, classification_report\n",
        "\n",
        "drive.mount('/content/gdrive')\n",
        "\n",
        "data_dir = \"/content/gdrive/My Drive/MSTAR-10-Classes/\"\n",
        "train_data_dir = os.path.join(data_dir, \"train\")\n",
        "test_data_dir = os.path.join(data_dir, \"test\")\n",
        "\n",
        "image_size = (64, 64)\n",
        "\n",
        "def load_images_and_labels(data_dir):\n",
        "    images = []\n",
        "    labels = []\n",
        "    for root, dirs, files in os.walk(data_dir):\n",
        "        for file in files:\n",
        "            if file.lower().endswith((\".jpg\", \".jpeg\", \".png\", \".tif\", \".tiff\")):\n",
        "                filepath = os.path.join(root, file)\n",
        "                image = cv2.imread(filepath, cv2.IMREAD_GRAYSCALE)\n",
        "                if image is not None:\n",
        "                    image = cv2.resize(image, image_size)\n",
        "                    images.append(image.flatten())\n",
        "                    labels.append(os.path.basename(root))\n",
        "                else:\n",
        "                    print(f'Error loading image: {filepath}')\n",
        "    return np.array(images), np.array(labels)\n",
        "\n",
        "X_train, y_train = load_images_and_labels(train_data_dir)\n",
        "\n",
        "X_test, y_test = load_images_and_labels(test_data_dir)\n",
        "\n",
        "if len(X_train) == 0 or len(X_test) == 0:\n",
        "    print('No data loaded. Please check the dataset directory paths and ensure images are available.')\n",
        "\n",
        "label_encoder = LabelEncoder()\n",
        "y_train = label_encoder.fit_transform(y_train)\n",
        "y_test = label_encoder.transform(y_test)\n",
        "\n",
        "svm_model = SVC(kernel='linear')\n",
        "svm_model.fit(X_train, y_train)\n",
        "\n",
        "y_pred = svm_model.predict(X_test)\n",
        "\n",
        "accuracy = accuracy_score(y_test, y_pred)\n",
        "report = classification_report(y_test, y_pred, target_names=label_encoder.classes_)\n",
        "\n",
        "print(f'Accuracy: {accuracy}')\n",
        "print('Classification Report:')\n",
        "print(report)\n",
        "\n",
        "predicted_labels = label_encoder.inverse_transform(y_pred)\n",
        "print('Predicted labels for test set:', predicted_labels)\n"
      ],
      "metadata": {
        "colab": {
          "base_uri": "https://localhost:8080/"
        },
        "id": "eDCDTtuKQ1CH",
        "outputId": "1a44eac6-3090-470d-ee74-cf0ecdbbc537"
      },
      "execution_count": null,
      "outputs": [
        {
          "output_type": "stream",
          "name": "stdout",
          "text": [
            "Drive already mounted at /content/gdrive; to attempt to forcibly remount, call drive.mount(\"/content/gdrive\", force_remount=True).\n",
            "Accuracy: 0.9707298999629492\n",
            "Classification Report:\n",
            "              precision    recall  f1-score   support\n",
            "\n",
            "         2S1       0.97      0.96      0.96       274\n",
            "        BMP2       0.95      0.95      0.95       195\n",
            "       BRDM2       0.97      0.91      0.94       274\n",
            "       BTR60       0.92      0.98      0.95       195\n",
            "       BTR70       0.98      0.96      0.97       196\n",
            "          D7       0.99      0.99      0.99       274\n",
            "       SLICY       1.00      1.00      1.00       274\n",
            "         T62       0.99      0.95      0.97       273\n",
            "         T72       0.97      1.00      0.98       196\n",
            "      ZIL131       0.98      0.98      0.98       274\n",
            "    ZSU_23_4       0.95      0.99      0.97       274\n",
            "\n",
            "    accuracy                           0.97      2699\n",
            "   macro avg       0.97      0.97      0.97      2699\n",
            "weighted avg       0.97      0.97      0.97      2699\n",
            "\n",
            "Predicted labels for test set: ['T62' 'T62' 'T62' ... '2S1' '2S1' '2S1']\n"
          ]
        }
      ]
    },
    {
      "cell_type": "markdown",
      "source": [
        "THE VEHICLES THAT CAN BE CLASSIFIED\n",
        "\n",
        "\n",
        "\n",
        "T62 - Soviet main battle tank\n",
        "T72 - Soviet main battle tank\n",
        "ZSU-23-4 - Soviet self-propelled anti-aircraft gun\n",
        "BRDM-2 - Soviet amphibious armored patrol car\n",
        "BMP2 - Soviet infantry fighting vehicle\n",
        "2S1 - Soviet self-propelled howitzer\n",
        "BTR60 - Soviet eight-wheeled armored personnel carrier\n",
        "BTR70 - Soviet eight-wheeled armored personnel carrier\n",
        "D7 - Soviet bulldozer\n",
        "ZIL131 - Soviet military truck"
      ],
      "metadata": {
        "id": "jRZaxSZLUl_d"
      }
    },
    {
      "cell_type": "markdown",
      "source": [
        "PREDICTING MY OWN INPUT\n"
      ],
      "metadata": {
        "id": "ipd1a3daSyH0"
      }
    },
    {
      "cell_type": "code",
      "source": [
        "# Example to predict on a single image\n",
        "def predict_single_image(image_path):\n",
        "    image = cv2.imread(image_path, cv2.IMREAD_GRAYSCALE)\n",
        "    if image is not None:\n",
        "        image = cv2.resize(image, image_size)\n",
        "        image_flat = image.flatten()\n",
        "        prediction = svm_model.predict([image_flat])\n",
        "        predicted_label = label_encoder.inverse_transform(prediction)[0]\n",
        "        print(f'Predicted label: {predicted_label}')\n",
        "    else:\n",
        "        print(f'Error loading image: {image_path}')\n",
        "\n",
        "image_path = \"/content/gdrive/My Drive/MSTAR-10-Classes/sample.jpeg\"\n",
        "predict_single_image(image_path)\n"
      ],
      "metadata": {
        "colab": {
          "base_uri": "https://localhost:8080/"
        },
        "id": "QR1hzq4-SxbX",
        "outputId": "144769db-8c03-40fe-ac1f-aafc9e77ae7a"
      },
      "execution_count": null,
      "outputs": [
        {
          "output_type": "stream",
          "name": "stdout",
          "text": [
            "Predicted label: SLICY\n"
          ]
        }
      ]
    }
  ]
}